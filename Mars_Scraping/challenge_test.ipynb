{
 "cells": [
  {
   "cell_type": "code",
   "execution_count": 653,
   "metadata": {},
   "outputs": [],
   "source": [
    "from bs4 import BeautifulSoup as soup \n",
    "import pandas as pd\n",
    "from webdriver_manager.chrome import ChromeDriverManager\n",
    "from splinter import Browser\n",
    "import numpy as np\n",
    "import time"
   ]
  },
  {
   "cell_type": "code",
   "execution_count": 654,
   "metadata": {},
   "outputs": [
    {
     "name": "stderr",
     "output_type": "stream",
     "text": [
      "\n",
      "\n",
      "====== WebDriver manager ======\n",
      "Current google-chrome version is 101.0.4951\n",
      "Get LATEST chromedriver version for 101.0.4951 google-chrome\n",
      "Driver [/Users/adambachrach/.wdm/drivers/chromedriver/mac64/101.0.4951.41/chromedriver] found in cache\n"
     ]
    }
   ],
   "source": [
    "executable_path = {'executable_path': ChromeDriverManager().install()}\n",
    "browser = Browser('chrome', **executable_path, headless=False)"
   ]
  },
  {
   "cell_type": "code",
   "execution_count": 655,
   "metadata": {},
   "outputs": [],
   "source": [
    "def hem_images(browser): \n",
    "\n",
    "    url = 'https://astrogeology.usgs.gov/search/results?q=hemisphere+enhanced&k1=target&v1=Mars' \n",
    "\n",
    "    browser.visit(url) \n",
    "\n",
    "\n",
    "    # Create lists for .jpg hemisphere images and titles \n",
    "\n",
    "    hems_image_urls = [] \n",
    "\n",
    "    # Retreive full resolution hemisphere images and titles \n",
    "\n",
    "    image_pages = browser.find_by_tag('h3') \n",
    "\n",
    "    # Loop through starting links \n",
    "\n",
    "    for link in image_pages: \n",
    "\n",
    "        # Empty dictionary for key values pairs (link & title) \n",
    "\n",
    "        hemispheres = {} \n",
    "\n",
    "        # Click the link to visit specific hemisphere page \n",
    "        time.sleep(1) \n",
    "        \n",
    "        link.click() \n",
    "\n",
    "        # Initialize html parser \n",
    "\n",
    "        html = browser.html \n",
    "\n",
    "        # Create bs object \n",
    "\n",
    "        bs = soup(html, 'html.parser') \n",
    "\n",
    "        try: \n",
    "\n",
    "            # Parse html and find .jpg image link and title \n",
    "\n",
    "            downloads = bs.find('div', class_='downloads') \n",
    "            hem_img = downloads.find('a').get('href') \n",
    "\n",
    "            title = bs.find('h2', class_='title').text \n",
    "\n",
    "        except AttributeError: \n",
    "\n",
    "            return None \n",
    "\n",
    "        # Add .jpg link and title to dictionary \n",
    "\n",
    "        hemispheres = { \n",
    "            'img_url':hem_img, \n",
    "            'title':title  \n",
    "        } \n",
    "\n",
    "        # Append list with each dictionary created \n",
    "\n",
    "        hems_image_urls.append(hemispheres) \n",
    "\n",
    "        browser.back() \n",
    "\n",
    "\n",
    "    return hems_image_urls\n",
    "         "
   ]
  },
  {
   "cell_type": "code",
   "execution_count": 656,
   "metadata": {},
   "outputs": [
    {
     "data": {
      "text/plain": [
       "[{'img_url': 'https://astropedia.astrogeology.usgs.gov/download/Mars/Viking/cerberus_enhanced.tif/full.jpg',\n",
       "  'title': 'Cerberus Hemisphere Enhanced'},\n",
       " {'img_url': 'https://astropedia.astrogeology.usgs.gov/download/Mars/Viking/schiaparelli_enhanced.tif/full.jpg',\n",
       "  'title': 'Schiaparelli Hemisphere Enhanced'},\n",
       " {'img_url': 'https://astropedia.astrogeology.usgs.gov/download/Mars/Viking/syrtis_major_enhanced.tif/full.jpg',\n",
       "  'title': 'Syrtis Major Hemisphere Enhanced'},\n",
       " {'img_url': 'https://astropedia.astrogeology.usgs.gov/download/Mars/Viking/valles_marineris_enhanced.tif/full.jpg',\n",
       "  'title': 'Valles Marineris Hemisphere Enhanced'}]"
      ]
     },
     "execution_count": 656,
     "metadata": {},
     "output_type": "execute_result"
    }
   ],
   "source": [
    "hem_images(browser)"
   ]
  },
  {
   "cell_type": "code",
   "execution_count": 657,
   "metadata": {},
   "outputs": [],
   "source": [
    "browser.quit()"
   ]
  },
  {
   "cell_type": "code",
   "execution_count": null,
   "metadata": {},
   "outputs": [],
   "source": []
  }
 ],
 "metadata": {
  "interpreter": {
   "hash": "40d3a090f54c6569ab1632332b64b2c03c39dcf918b08424e98f38b5ae0af88f"
  },
  "kernelspec": {
   "display_name": "Python 3.9.7 ('base')",
   "language": "python",
   "name": "python3"
  },
  "language_info": {
   "codemirror_mode": {
    "name": "ipython",
    "version": 3
   },
   "file_extension": ".py",
   "mimetype": "text/x-python",
   "name": "python",
   "nbconvert_exporter": "python",
   "pygments_lexer": "ipython3",
   "version": "3.9.7"
  },
  "orig_nbformat": 4
 },
 "nbformat": 4,
 "nbformat_minor": 2
}
